{
  "nbformat": 4,
  "nbformat_minor": 0,
  "metadata": {
    "colab": {
      "name": "E-CAM_JAY(recall)",
      "provenance": [],
      "collapsed_sections": []
    },
    "kernelspec": {
      "name": "python3",
      "display_name": "Python 3"
    },
    "language_info": {
      "name": "python"
    },
    "accelerator": "GPU"
  },
  "cells": [
    {
      "cell_type": "markdown",
      "source": [
        "# E-CAM (version 1.0)\n",
        "### editor: Jay"
      ],
      "metadata": {
        "id": "PSOOz2p44kb2"
      }
    },
    {
      "cell_type": "markdown",
      "source": [
        "#### Import data"
      ],
      "metadata": {
        "id": "lpC0vK1U42pv"
      }
    },
    {
      "cell_type": "code",
      "execution_count": 1,
      "metadata": {
        "id": "hrQn3V3c3gtP",
        "colab": {
          "base_uri": "https://localhost:8080/"
        },
        "outputId": "77d38120-677e-4dcc-96d9-839f67e51db4"
      },
      "outputs": [
        {
          "output_type": "stream",
          "name": "stdout",
          "text": [
            "Archive:  data.zip\n",
            "   creating: level0/\n",
            "  inflating: level0/001.png          \n",
            "  inflating: level0/002.png          \n",
            "  inflating: level0/003.png          \n",
            "  inflating: level0/004.png          \n",
            "  inflating: level0/005.png          \n",
            "  inflating: level0/006.png          \n",
            "  inflating: level0/007.png          \n",
            "  inflating: level0/008.png          \n",
            "  inflating: level0/009.png          \n",
            "  inflating: level0/010.png          \n",
            "  inflating: level0/011.png          \n",
            "  inflating: level0/012.png          \n",
            "  inflating: level0/013.png          \n",
            "  inflating: level0/014.png          \n",
            "  inflating: level0/015.png          \n",
            "  inflating: level0/016.png          \n",
            "  inflating: level0/017.png          \n",
            "  inflating: level0/018.png          \n",
            "  inflating: level0/019.png          \n",
            "  inflating: level0/020.png          \n",
            "  inflating: level0/021.png          \n",
            "  inflating: level0/022.png          \n",
            "  inflating: level0/023.png          \n",
            "  inflating: level0/024.png          \n",
            "  inflating: level0/025.png          \n",
            "  inflating: level0/026.png          \n",
            "  inflating: level0/027.png          \n",
            "  inflating: level0/028.png          \n",
            "  inflating: level0/029.png          \n",
            "  inflating: level0/030.png          \n",
            "  inflating: level0/031.png          \n",
            "  inflating: level0/032.png          \n",
            "  inflating: level0/033.png          \n",
            "  inflating: level0/034.png          \n",
            "  inflating: level0/035.png          \n",
            "  inflating: level0/036.png          \n",
            "  inflating: level0/037.png          \n",
            "  inflating: level0/038.png          \n",
            "  inflating: level0/039.png          \n",
            "  inflating: level0/040.png          \n",
            "  inflating: level0/041.png          \n",
            "  inflating: level0/042.png          \n",
            "  inflating: level0/043.png          \n",
            "  inflating: level0/044.png          \n",
            "  inflating: level0/045.png          \n",
            "  inflating: level0/046.png          \n",
            "  inflating: level0/047.png          \n",
            "  inflating: level0/048.png          \n",
            "  inflating: level0/049.png          \n",
            "  inflating: level0/050.png          \n",
            "  inflating: level0/051.png          \n",
            "  inflating: level0/052.png          \n",
            "  inflating: level0/053.png          \n",
            "  inflating: level0/054.png          \n",
            "  inflating: level0/055.png          \n",
            "  inflating: level0/056.png          \n",
            "  inflating: level0/057.png          \n",
            "  inflating: level0/058.png          \n",
            "  inflating: level0/059.png          \n",
            "  inflating: level0/060.png          \n",
            "  inflating: level0/061.png          \n",
            "  inflating: level0/062.png          \n",
            "  inflating: level0/063.png          \n",
            "  inflating: level0/064.png          \n",
            "  inflating: level0/065.png          \n",
            "  inflating: level0/066.png          \n",
            "  inflating: level0/067.png          \n",
            "  inflating: level0/068.png          \n",
            "  inflating: level0/069.png          \n",
            "  inflating: level0/070.png          \n",
            "  inflating: level0/071.png          \n",
            "  inflating: level0/072.png          \n",
            "  inflating: level0/073.png          \n",
            "  inflating: level0/074.png          \n",
            "  inflating: level0/075.png          \n",
            "  inflating: level0/076.png          \n",
            "  inflating: level0/077.png          \n",
            "  inflating: level0/078.png          \n",
            "  inflating: level0/079.png          \n",
            "  inflating: level0/080.png          \n",
            "  inflating: level0/081.png          \n",
            "  inflating: level0/082.png          \n",
            "  inflating: level0/083.png          \n",
            "  inflating: level0/084.png          \n",
            "  inflating: level0/085.png          \n",
            "  inflating: level0/086.png          \n",
            "  inflating: level0/087.png          \n",
            "  inflating: level0/088.png          \n",
            "  inflating: level0/089.png          \n",
            "  inflating: level0/090.png          \n",
            "  inflating: level0/091.png          \n",
            "  inflating: level0/092.png          \n",
            "  inflating: level0/093.png          \n",
            "  inflating: level0/094.png          \n",
            "  inflating: level0/095.png          \n",
            "  inflating: level0/096.png          \n",
            "  inflating: level0/097.png          \n",
            "  inflating: level0/098.png          \n",
            "  inflating: level0/099.png          \n",
            "  inflating: level0/100.png          \n",
            "  inflating: level0/101.png          \n",
            "  inflating: level0/102.png          \n",
            "  inflating: level0/103.png          \n",
            "  inflating: level0/104.png          \n",
            "  inflating: level0/105.png          \n",
            "  inflating: level0/106.png          \n",
            "  inflating: level0/107.png          \n",
            "  inflating: level0/108.png          \n",
            "  inflating: level0/109.png          \n",
            "  inflating: level0/110.png          \n",
            "  inflating: level0/111.png          \n",
            "  inflating: level0/112.png          \n",
            "  inflating: level0/113.png          \n",
            "  inflating: level0/114.png          \n",
            "  inflating: level0/115.png          \n",
            "  inflating: level0/116.png          \n",
            "  inflating: level0/117.png          \n",
            "  inflating: level0/118.png          \n",
            "  inflating: level0/119.png          \n",
            "  inflating: level0/120.png          \n",
            "  inflating: level0/121.png          \n",
            "  inflating: level0/122.png          \n",
            "  inflating: level0/123.png          \n",
            "  inflating: level0/124.png          \n",
            "  inflating: level0/125.png          \n",
            "  inflating: level0/126.png          \n",
            "  inflating: level0/127.png          \n",
            "  inflating: level0/128.png          \n",
            "  inflating: level0/129.png          \n",
            "   creating: level1/\n",
            "  inflating: level1/001.png          \n",
            "  inflating: level1/002.png          \n",
            "  inflating: level1/003.png          \n",
            "  inflating: level1/004.png          \n",
            "  inflating: level1/005.png          \n",
            "  inflating: level1/006.png          \n",
            "  inflating: level1/007.png          \n",
            "  inflating: level1/008.png          \n",
            "  inflating: level1/009.png          \n",
            "  inflating: level1/010.png          \n",
            "  inflating: level1/011.png          \n",
            "  inflating: level1/012.png          \n",
            "  inflating: level1/013.png          \n",
            "  inflating: level1/014.png          \n",
            "  inflating: level1/015.png          \n",
            "  inflating: level1/016.png          \n",
            "  inflating: level1/017.png          \n",
            "  inflating: level1/018.png          \n",
            "  inflating: level1/019.png          \n",
            "  inflating: level1/020.png          \n",
            "  inflating: level1/021.png          \n",
            "  inflating: level1/022.png          \n",
            "  inflating: level1/023.png          \n",
            "  inflating: level1/024.png          \n",
            "  inflating: level1/025.png          \n",
            "  inflating: level1/026.png          \n",
            "  inflating: level1/027.png          \n",
            "  inflating: level1/028.png          \n",
            "  inflating: level1/029.png          \n",
            "  inflating: level1/030.png          \n",
            "  inflating: level1/031.png          \n",
            "  inflating: level1/032.png          \n",
            "  inflating: level1/033.png          \n",
            "  inflating: level1/034.png          \n",
            "  inflating: level1/035.png          \n",
            "  inflating: level1/036.png          \n",
            "  inflating: level1/037.png          \n",
            "  inflating: level1/038.png          \n",
            "  inflating: level1/039.png          \n",
            "  inflating: level1/040.png          \n",
            "  inflating: level1/041.png          \n",
            "  inflating: level1/042.png          \n",
            "  inflating: level1/043.png          \n",
            "  inflating: level1/044.png          \n",
            "  inflating: level1/045.png          \n",
            "  inflating: level1/046.png          \n",
            "  inflating: level1/047.png          \n",
            "  inflating: level1/048.png          \n",
            "  inflating: level1/049.png          \n",
            "  inflating: level1/050.png          \n",
            "  inflating: level1/051.png          \n",
            "  inflating: level1/052.png          \n",
            "  inflating: level1/053.png          \n",
            "  inflating: level1/054.png          \n",
            "  inflating: level1/055.png          \n",
            "  inflating: level1/056.png          \n",
            "  inflating: level1/057.png          \n",
            "  inflating: level1/058.png          \n",
            "  inflating: level1/059.png          \n",
            "  inflating: level1/060.png          \n",
            "  inflating: level1/061.png          \n",
            "  inflating: level1/062.png          \n",
            "  inflating: level1/063.png          \n",
            "  inflating: level1/064.png          \n",
            "  inflating: level1/065.png          \n",
            "  inflating: level1/066.png          \n",
            "  inflating: level1/067.png          \n",
            "  inflating: level1/068.png          \n",
            "  inflating: level1/069.png          \n",
            "  inflating: level1/070.png          \n",
            "  inflating: level1/071.png          \n",
            "  inflating: level1/072.png          \n",
            "  inflating: level1/073.png          \n",
            "  inflating: level1/074.png          \n",
            "  inflating: level1/075.png          \n",
            "  inflating: level1/076.png          \n",
            "  inflating: level1/077.png          \n",
            "  inflating: level1/078.png          \n",
            "  inflating: level1/079.png          \n",
            "  inflating: level1/080.png          \n",
            "  inflating: level1/081.png          \n",
            "  inflating: level1/082.png          \n",
            "  inflating: level1/083.png          \n",
            "  inflating: level1/084.png          \n",
            "  inflating: level1/085.png          \n",
            "  inflating: level1/086.png          \n",
            "  inflating: level1/087.png          \n",
            "  inflating: level1/088.png          \n",
            "  inflating: level1/089.png          \n",
            "  inflating: level1/090.png          \n",
            "  inflating: level1/091.png          \n",
            "  inflating: level1/092.png          \n",
            "  inflating: level1/093.png          \n",
            "  inflating: level1/094.png          \n",
            "  inflating: level1/095.png          \n",
            "  inflating: level1/096.png          \n",
            "  inflating: level1/097.png          \n",
            "  inflating: level1/098.png          \n",
            "  inflating: level1/099.png          \n",
            "  inflating: level1/100.png          \n",
            "  inflating: level1/101.png          \n",
            "  inflating: level1/102.png          \n",
            "  inflating: level1/103.png          \n",
            "  inflating: level1/104.png          \n",
            "  inflating: level1/105.png          \n",
            "  inflating: level1/106.png          \n",
            "  inflating: level1/107.png          \n",
            "  inflating: level1/108.png          \n",
            "  inflating: level1/109.png          \n",
            "  inflating: level1/110.png          \n",
            "  inflating: level1/111.png          \n",
            "  inflating: level1/112.png          \n",
            "  inflating: level1/113.png          \n",
            "  inflating: level1/114.png          \n",
            "  inflating: level1/115.png          \n",
            "  inflating: level1/116.png          \n",
            "  inflating: level1/117.png          \n",
            "  inflating: level1/118.png          \n",
            "  inflating: level1/119.png          \n",
            "  inflating: level1/120.png          \n",
            "  inflating: level1/121.png          \n",
            "  inflating: level1/122.png          \n",
            "  inflating: level1/123.png          \n",
            "  inflating: level1/124.png          \n",
            "  inflating: level1/125.png          \n",
            "  inflating: level1/126.png          \n",
            "  inflating: level1/127.png          \n",
            "  inflating: level1/128.png          \n",
            "  inflating: level1/129.png          \n",
            "  inflating: level1/130.png          \n",
            "  inflating: level1/131.png          \n",
            "  inflating: level1/132.png          \n",
            "  inflating: level1/133.png          \n",
            "  inflating: level1/134.png          \n",
            "  inflating: level1/135.png          \n",
            "  inflating: level1/136.png          \n",
            "  inflating: level1/137.png          \n",
            "  inflating: level1/138.png          \n",
            "  inflating: level1/139.png          \n",
            "  inflating: level1/140.png          \n",
            "  inflating: level1/141.png          \n",
            "   creating: level2/\n",
            "  inflating: level2/001.png          \n",
            "  inflating: level2/002.png          \n",
            "  inflating: level2/003.png          \n",
            "  inflating: level2/004.png          \n",
            "  inflating: level2/005.png          \n",
            "  inflating: level2/006.png          \n",
            "  inflating: level2/007.png          \n",
            "  inflating: level2/008.png          \n",
            "  inflating: level2/009.png          \n",
            "  inflating: level2/010.png          \n",
            "  inflating: level2/011.png          \n",
            "  inflating: level2/012.png          \n",
            "  inflating: level2/013.png          \n",
            "  inflating: level2/014.png          \n",
            "  inflating: level2/015.png          \n",
            "  inflating: level2/016.png          \n",
            "  inflating: level2/017.png          \n",
            "  inflating: level2/018.png          \n",
            "  inflating: level2/019.png          \n",
            "  inflating: level2/020.png          \n",
            "  inflating: level2/021.png          \n",
            "  inflating: level2/022.png          \n",
            "  inflating: level2/023.png          \n",
            "  inflating: level2/024.png          \n",
            "  inflating: level2/025.png          \n",
            "  inflating: level2/026.png          \n",
            "  inflating: level2/027.png          \n",
            "  inflating: level2/028.png          \n",
            "  inflating: level2/029.png          \n",
            "  inflating: level2/030.png          \n",
            "  inflating: level2/031.png          \n",
            "  inflating: level2/032.png          \n",
            "  inflating: level2/033.png          \n",
            "  inflating: level2/034.png          \n",
            "  inflating: level2/035.png          \n",
            "  inflating: level2/036.png          \n",
            "  inflating: level2/037.png          \n",
            "  inflating: level2/038.png          \n",
            "  inflating: level2/039.png          \n",
            "  inflating: level2/040.png          \n",
            "  inflating: level2/041.png          \n",
            "  inflating: level2/042.png          \n",
            "  inflating: level2/043.png          \n",
            "  inflating: level2/044.png          \n",
            "  inflating: level2/045.png          \n",
            "  inflating: level2/046.png          \n",
            "  inflating: level2/047.png          \n",
            "  inflating: level2/048.png          \n",
            "  inflating: level2/049.png          \n",
            "  inflating: level2/050.png          \n",
            "  inflating: level2/051.png          \n",
            "  inflating: level2/052.png          \n",
            "  inflating: level2/053.png          \n",
            "  inflating: level2/054.png          \n",
            "  inflating: level2/055.png          \n",
            "  inflating: level2/056.png          \n",
            "  inflating: level2/057.png          \n",
            "  inflating: level2/058.png          \n",
            "  inflating: level2/059.png          \n",
            "  inflating: level2/060.png          \n",
            "  inflating: level2/061.png          \n",
            "  inflating: level2/062.png          \n",
            "  inflating: level2/063.png          \n",
            "  inflating: level2/064.png          \n",
            "  inflating: level2/065.png          \n",
            "  inflating: level2/066.png          \n",
            "  inflating: level2/067.png          \n",
            "  inflating: level2/068.png          \n",
            "  inflating: level2/069.png          \n",
            "  inflating: level2/070.png          \n",
            "  inflating: level2/071.png          \n",
            "  inflating: level2/72.png           \n",
            "  inflating: level2/73.png           \n",
            "  inflating: level2/74.png           \n",
            "  inflating: level2/75.png           \n",
            "  inflating: level2/76.png           \n",
            "  inflating: level2/77.png           \n",
            "  inflating: level2/78.png           \n",
            "  inflating: level2/79.png           \n"
          ]
        }
      ],
      "source": [
        "!unzip data.zip"
      ]
    },
    {
      "cell_type": "markdown",
      "source": [
        ""
      ],
      "metadata": {
        "id": "WDAL0CK_4i9f"
      }
    },
    {
      "cell_type": "markdown",
      "source": [
        "#### import libary"
      ],
      "metadata": {
        "id": "nuW2H1k247D5"
      }
    },
    {
      "cell_type": "code",
      "source": [
        "import os\n",
        "import zipfile\n",
        "import numpy as np\n",
        "import pandas as pd"
      ],
      "metadata": {
        "id": "zjLwFx1Q3pAN"
      },
      "execution_count": 2,
      "outputs": []
    },
    {
      "cell_type": "code",
      "source": [
        "p0_dir = './level0'\n",
        "p1_dir = './level1'\n",
        "p2_dir = './level2'\n",
        "\n",
        "p0_names = os.listdir(p0_dir)\n",
        "p1_names = os.listdir(p1_dir)\n",
        "p2_names = os.listdir(p2_dir)"
      ],
      "metadata": {
        "id": "49VGi5h43pzA"
      },
      "execution_count": 3,
      "outputs": []
    },
    {
      "cell_type": "code",
      "source": [
        "print(p0_names)\n",
        "print(p1_names)\n",
        "print(p2_names)\n",
        "print(len(p0_names))"
      ],
      "metadata": {
        "colab": {
          "base_uri": "https://localhost:8080/"
        },
        "id": "SewLTVUy3p9Z",
        "outputId": "3fc2f8e3-714b-4613-d699-178ce1e8a4d6"
      },
      "execution_count": 4,
      "outputs": [
        {
          "output_type": "stream",
          "name": "stdout",
          "text": [
            "['096.png', '105.png', '076.png', '075.png', '111.png', '094.png', '027.png', '064.png', '060.png', '126.png', '124.png', '078.png', '084.png', '119.png', '013.png', '059.png', '049.png', '041.png', '036.png', '102.png', '003.png', '010.png', '123.png', '002.png', '034.png', '057.png', '037.png', '121.png', '031.png', '117.png', '062.png', '026.png', '052.png', '129.png', '053.png', '087.png', '082.png', '113.png', '021.png', '056.png', '039.png', '089.png', '079.png', '112.png', '035.png', '100.png', '092.png', '042.png', '012.png', '017.png', '116.png', '022.png', '091.png', '083.png', '086.png', '114.png', '125.png', '070.png', '015.png', '071.png', '099.png', '085.png', '069.png', '066.png', '095.png', '029.png', '067.png', '077.png', '090.png', '109.png', '088.png', '118.png', '127.png', '072.png', '028.png', '008.png', '032.png', '019.png', '005.png', '006.png', '043.png', '004.png', '014.png', '080.png', '063.png', '104.png', '081.png', '044.png', '103.png', '115.png', '108.png', '098.png', '093.png', '106.png', '046.png', '030.png', '074.png', '024.png', '128.png', '065.png', '045.png', '107.png', '050.png', '051.png', '018.png', '007.png', '097.png', '033.png', '001.png', '058.png', '055.png', '047.png', '073.png', '040.png', '101.png', '068.png', '048.png', '009.png', '054.png', '061.png', '122.png', '023.png', '120.png', '016.png', '025.png', '011.png', '038.png', '110.png', '020.png']\n",
            "['096.png', '105.png', '076.png', '075.png', '137.png', '111.png', '094.png', '027.png', '064.png', '060.png', '126.png', '124.png', '078.png', '084.png', '130.png', '140.png', '119.png', '013.png', '059.png', '049.png', '041.png', '036.png', '102.png', '003.png', '010.png', '123.png', '002.png', '034.png', '057.png', '037.png', '121.png', '141.png', '031.png', '133.png', '117.png', '062.png', '026.png', '052.png', '129.png', '053.png', '087.png', '082.png', '113.png', '021.png', '056.png', '039.png', '089.png', '136.png', '079.png', '112.png', '035.png', '100.png', '092.png', '042.png', '012.png', '017.png', '116.png', '022.png', '091.png', '083.png', '086.png', '114.png', '125.png', '070.png', '015.png', '071.png', '131.png', '099.png', '135.png', '085.png', '069.png', '066.png', '095.png', '029.png', '138.png', '067.png', '077.png', '090.png', '109.png', '088.png', '118.png', '127.png', '072.png', '028.png', '008.png', '032.png', '019.png', '005.png', '006.png', '043.png', '004.png', '014.png', '139.png', '080.png', '063.png', '104.png', '081.png', '044.png', '103.png', '115.png', '108.png', '098.png', '093.png', '106.png', '046.png', '030.png', '074.png', '024.png', '128.png', '065.png', '045.png', '107.png', '050.png', '051.png', '018.png', '007.png', '097.png', '033.png', '001.png', '058.png', '055.png', '047.png', '073.png', '040.png', '101.png', '068.png', '048.png', '009.png', '054.png', '134.png', '061.png', '122.png', '023.png', '120.png', '016.png', '025.png', '011.png', '038.png', '132.png', '110.png', '020.png']\n",
            "['027.png', '064.png', '060.png', '013.png', '059.png', '049.png', '041.png', '036.png', '003.png', '010.png', '002.png', '034.png', '057.png', '037.png', '031.png', '72.png', '062.png', '026.png', '052.png', '053.png', '021.png', '056.png', '039.png', '035.png', '79.png', '73.png', '042.png', '012.png', '017.png', '022.png', '070.png', '015.png', '071.png', '069.png', '066.png', '029.png', '067.png', '028.png', '008.png', '032.png', '019.png', '005.png', '006.png', '043.png', '78.png', '004.png', '014.png', '063.png', '044.png', '76.png', '046.png', '030.png', '024.png', '065.png', '045.png', '050.png', '75.png', '051.png', '018.png', '007.png', '033.png', '001.png', '058.png', '055.png', '047.png', '040.png', '068.png', '048.png', '77.png', '009.png', '054.png', '061.png', '023.png', '74.png', '016.png', '025.png', '011.png', '038.png', '020.png']\n",
            "129\n"
          ]
        }
      ]
    },
    {
      "cell_type": "code",
      "source": [
        "x_train = np.empty((0, 224, 224, 3), float)\n",
        "y_train = np.empty(0, dtype=int)\n",
        "\n",
        "x_test = np.empty((0, 224, 224, 3), float)\n",
        "y_test = np.empty(0, dtype=int)"
      ],
      "metadata": {
        "id": "j5HFImHM3qQ1"
      },
      "execution_count": 5,
      "outputs": []
    },
    {
      "cell_type": "code",
      "source": [
        "test_num = 9"
      ],
      "metadata": {
        "id": "eLwYAe9M-aHX"
      },
      "execution_count": 6,
      "outputs": []
    },
    {
      "cell_type": "code",
      "source": [
        "from PIL import Image\n",
        "\n",
        "for j, i in enumerate(p0_names):\n",
        "  img = Image.open('./level0/' + str(i)).convert('RGB')\n",
        "  img = np.array(img)\n",
        "  img = img.reshape((1, 224, 224, 3))\n",
        "  if j >= len(p0_names) - 9:\n",
        "    x_test = np.append(x_test, img, axis=0)\n",
        "    y_test = np.append(y_test, 0)\n",
        "  else:\n",
        "    x_train = np.append(x_train, img, axis=0)\n",
        "    y_train = np.append(y_train, 0)\n"
      ],
      "metadata": {
        "id": "knNUh4Nd3sGH"
      },
      "execution_count": 7,
      "outputs": []
    },
    {
      "cell_type": "code",
      "source": [
        "for j, i in enumerate(p1_names):\n",
        "  img = Image.open('./level1/' + str(i)).convert('RGB')\n",
        "  img = np.array(img)\n",
        "  img = img.reshape((1, 224, 224, 3))\n",
        "  if j >= len(p1_names) - 9:\n",
        "    x_test = np.append(x_test, img, axis=0)\n",
        "    y_test = np.append(y_test, 1)\n",
        "  else:\n",
        "    x_train = np.append(x_train, img, axis=0)\n",
        "    y_train = np.append(y_train, 1)"
      ],
      "metadata": {
        "id": "9XkJ353DBv1b"
      },
      "execution_count": 8,
      "outputs": []
    },
    {
      "cell_type": "code",
      "source": [
        "for j, i in enumerate(p2_names):\n",
        "  img = Image.open('./level2/' + str(i)).convert('RGB')\n",
        "  img = np.array(img)\n",
        "  img = img.reshape((1, 224, 224, 3))\n",
        "  if j >= len(p2_names) - 9:\n",
        "    x_test = np.append(x_test, img, axis=0)\n",
        "    y_test = np.append(y_test, 2)\n",
        "  else:\n",
        "    x_train = np.append(x_train, img, axis=0)\n",
        "    y_train = np.append(y_train, 2)"
      ],
      "metadata": {
        "id": "3Wk15m8eBwG6"
      },
      "execution_count": 9,
      "outputs": []
    },
    {
      "cell_type": "code",
      "source": [
        "print(x_train.shape)"
      ],
      "metadata": {
        "colab": {
          "base_uri": "https://localhost:8080/"
        },
        "id": "5FTekjSX9Zdj",
        "outputId": "7dd5edf8-e1da-4ab1-ebb3-dcdac5d8c917"
      },
      "execution_count": 10,
      "outputs": [
        {
          "output_type": "stream",
          "name": "stdout",
          "text": [
            "(322, 224, 224, 3)\n"
          ]
        }
      ]
    },
    {
      "cell_type": "code",
      "source": [
        "print(y_train.shape)"
      ],
      "metadata": {
        "colab": {
          "base_uri": "https://localhost:8080/"
        },
        "id": "mUyGmfC_4cpz",
        "outputId": "b8246f3c-476d-4b48-d049-918088e01ab9"
      },
      "execution_count": 11,
      "outputs": [
        {
          "output_type": "stream",
          "name": "stdout",
          "text": [
            "(322,)\n"
          ]
        }
      ]
    },
    {
      "cell_type": "code",
      "source": [
        "print(x_test.shape)"
      ],
      "metadata": {
        "colab": {
          "base_uri": "https://localhost:8080/"
        },
        "id": "3vDQN5Zi3sSY",
        "outputId": "a19d0801-4100-43f3-b83b-afa489fed060"
      },
      "execution_count": 12,
      "outputs": [
        {
          "output_type": "stream",
          "name": "stdout",
          "text": [
            "(27, 224, 224, 3)\n"
          ]
        }
      ]
    },
    {
      "cell_type": "code",
      "source": [
        "print(y_test.shape)"
      ],
      "metadata": {
        "colab": {
          "base_uri": "https://localhost:8080/"
        },
        "id": "ez88W8eI3skI",
        "outputId": "58afd8b3-c191-48de-94c4-cd0c8e133151"
      },
      "execution_count": 13,
      "outputs": [
        {
          "output_type": "stream",
          "name": "stdout",
          "text": [
            "(27,)\n"
          ]
        }
      ]
    },
    {
      "cell_type": "code",
      "source": [
        "x_train /= 255\n",
        "x_test /= 255"
      ],
      "metadata": {
        "id": "5HLruo3m4dOW"
      },
      "execution_count": 14,
      "outputs": []
    },
    {
      "cell_type": "markdown",
      "source": [
        ""
      ],
      "metadata": {
        "id": "4JrTPq8y4iEu"
      }
    },
    {
      "cell_type": "code",
      "source": [
        "import keras\n",
        "import tensorflow as tf\n",
        "tf.test.gpu_device_name()\n",
        "tf.config.list_physical_devices('GPU')\n",
        "\n",
        "from sklearn.utils import class_weight, shuffle\n",
        "from tensorflow.keras.utils import to_categorical\n",
        "from keras import applications\n",
        "from keras import optimizers\n",
        "from keras.models import Sequential, Model, load_model\n",
        "from keras.layers import Dropout, Flatten, Dense\n",
        "from keras.preprocessing.image import ImageDataGenerator\n",
        "from keras.callbacks import ModelCheckpoint"
      ],
      "metadata": {
        "id": "1GmSgy393ssk"
      },
      "execution_count": 42,
      "outputs": []
    },
    {
      "cell_type": "code",
      "source": [
        "base_model = applications.vgg16.VGG16(\n",
        "    weights='imagenet',\n",
        "    include_top=False, \n",
        "    input_shape=(\n",
        "        224,\n",
        "        224,\n",
        "        3\n",
        "        )\n",
        "    )"
      ],
      "metadata": {
        "id": "OhpfqQX-3szc"
      },
      "execution_count": 43,
      "outputs": []
    },
    {
      "cell_type": "code",
      "source": [
        "from keras import backend as K\n",
        "\n",
        "def recall(y_target, y_pred):\n",
        "    # clip(t, clip_value_min, clip_value_max) : clip_value_min~clip_value_max 이외 가장자리를 깎아 낸다\n",
        "    # round : 반올림한다\n",
        "    y_target_yn = K.round(K.clip(y_target, 0, 1)) # 실제값을 0(Negative) 또는 1(Positive)로 설정한다\n",
        "    y_pred_yn = K.round(K.clip(y_pred, 0, 1)) # 예측값을 0(Negative) 또는 1(Positive)로 설정한다\n",
        "\n",
        "    # True Positive는 실제 값과 예측 값이 모두 1(Positive)인 경우이다\n",
        "    count_true_positive = K.sum(y_target_yn * y_pred_yn) \n",
        "\n",
        "    # (True Positive + False Negative) = 실제 값이 1(Positive) 전체\n",
        "    count_true_positive_false_negative = K.sum(y_target_yn)\n",
        "\n",
        "    # Recall =  (True Positive) / (True Positive + False Negative)\n",
        "    # K.epsilon()는 'divide by zero error' 예방차원에서 작은 수를 더한다\n",
        "    recall = count_true_positive / (count_true_positive_false_negative + K.epsilon())\n",
        "\n",
        "    # return a single tensor value\n",
        "    return recall"
      ],
      "metadata": {
        "id": "_eSofNhwcPbn"
      },
      "execution_count": 44,
      "outputs": []
    },
    {
      "cell_type": "code",
      "source": [
        "from tensorflow.keras.optimizers import SGD\n",
        "\n",
        "def build_model():\n",
        "  add_model = Sequential()\n",
        "  add_model.add(Flatten(input_shape=base_model.output_shape[1:]))\n",
        "  add_model.add(Dense(224, activation='relu')) \n",
        "  add_model.add(Dense(3, activation='softmax'))\n",
        "\n",
        "  model = Model(\n",
        "    inputs=base_model.input,\n",
        "    outputs=add_model(base_model.output)\n",
        "    )\n",
        "  \n",
        "  # learning_rate = 1e-4 = 0.0001\n",
        "  model.compile(loss='sparse_categorical_crossentropy',\n",
        "              optimizer=SGD(learning_rate=1e-4, momentum=0.9),\n",
        "              metrics=['accuracy', recall])\n",
        "  model.summary()\n",
        "\n",
        "  return model"
      ],
      "metadata": {
        "id": "8gxELDK83s6F"
      },
      "execution_count": 45,
      "outputs": []
    },
    {
      "cell_type": "code",
      "source": [
        "batch_size_4 = 4\n",
        "batch_size_8 = 8\n",
        "batch_size_16 = 16\n",
        "batch_size_32 = 32\n",
        "\n",
        "epochs = 30\n",
        "model_1 = build_model()\n",
        "model_2 = build_model()\n",
        "model_3 = build_model()\n",
        "model_4 = build_model()\n",
        "\n",
        "\n",
        "history1 = model_1.fit(x_train, y_train, epochs=epochs, batch_size=batch_size_4, validation_data=(x_test, y_test))\n",
        "history2 = model_2.fit(x_train, y_train, epochs=epochs, batch_size=batch_size_8, validation_data=(x_test, y_test))\n",
        "history3 = model_3.fit(x_train, y_train, epochs=epochs, batch_size=batch_size_16, validation_data=(x_test, y_test))\n",
        "history4 = model_4.fit(x_train, y_train, epochs=epochs, batch_size=batch_size_32, validation_data=(x_test, y_test))\n"
      ],
      "metadata": {
        "colab": {
          "base_uri": "https://localhost:8080/"
        },
        "id": "vK9rx0CM3tNw",
        "outputId": "c3824b47-462f-4245-f613-21b074b4835e"
      },
      "execution_count": 46,
      "outputs": [
        {
          "output_type": "stream",
          "name": "stdout",
          "text": [
            "Model: \"model_23\"\n",
            "_________________________________________________________________\n",
            " Layer (type)                Output Shape              Param #   \n",
            "=================================================================\n",
            " input_2 (InputLayer)        [(None, 224, 224, 3)]     0         \n",
            "                                                                 \n",
            " block1_conv1 (Conv2D)       (None, 224, 224, 64)      1792      \n",
            "                                                                 \n",
            " block1_conv2 (Conv2D)       (None, 224, 224, 64)      36928     \n",
            "                                                                 \n",
            " block1_pool (MaxPooling2D)  (None, 112, 112, 64)      0         \n",
            "                                                                 \n",
            " block2_conv1 (Conv2D)       (None, 112, 112, 128)     73856     \n",
            "                                                                 \n",
            " block2_conv2 (Conv2D)       (None, 112, 112, 128)     147584    \n",
            "                                                                 \n",
            " block2_pool (MaxPooling2D)  (None, 56, 56, 128)       0         \n",
            "                                                                 \n",
            " block3_conv1 (Conv2D)       (None, 56, 56, 256)       295168    \n",
            "                                                                 \n",
            " block3_conv2 (Conv2D)       (None, 56, 56, 256)       590080    \n",
            "                                                                 \n",
            " block3_conv3 (Conv2D)       (None, 56, 56, 256)       590080    \n",
            "                                                                 \n",
            " block3_pool (MaxPooling2D)  (None, 28, 28, 256)       0         \n",
            "                                                                 \n",
            " block4_conv1 (Conv2D)       (None, 28, 28, 512)       1180160   \n",
            "                                                                 \n",
            " block4_conv2 (Conv2D)       (None, 28, 28, 512)       2359808   \n",
            "                                                                 \n",
            " block4_conv3 (Conv2D)       (None, 28, 28, 512)       2359808   \n",
            "                                                                 \n",
            " block4_pool (MaxPooling2D)  (None, 14, 14, 512)       0         \n",
            "                                                                 \n",
            " block5_conv1 (Conv2D)       (None, 14, 14, 512)       2359808   \n",
            "                                                                 \n",
            " block5_conv2 (Conv2D)       (None, 14, 14, 512)       2359808   \n",
            "                                                                 \n",
            " block5_conv3 (Conv2D)       (None, 14, 14, 512)       2359808   \n",
            "                                                                 \n",
            " block5_pool (MaxPooling2D)  (None, 7, 7, 512)         0         \n",
            "                                                                 \n",
            " sequential_23 (Sequential)  (None, 3)                 5620611   \n",
            "                                                                 \n",
            "=================================================================\n",
            "Total params: 20,335,299\n",
            "Trainable params: 20,335,299\n",
            "Non-trainable params: 0\n",
            "_________________________________________________________________\n",
            "Model: \"model_24\"\n",
            "_________________________________________________________________\n",
            " Layer (type)                Output Shape              Param #   \n",
            "=================================================================\n",
            " input_2 (InputLayer)        [(None, 224, 224, 3)]     0         \n",
            "                                                                 \n",
            " block1_conv1 (Conv2D)       (None, 224, 224, 64)      1792      \n",
            "                                                                 \n",
            " block1_conv2 (Conv2D)       (None, 224, 224, 64)      36928     \n",
            "                                                                 \n",
            " block1_pool (MaxPooling2D)  (None, 112, 112, 64)      0         \n",
            "                                                                 \n",
            " block2_conv1 (Conv2D)       (None, 112, 112, 128)     73856     \n",
            "                                                                 \n",
            " block2_conv2 (Conv2D)       (None, 112, 112, 128)     147584    \n",
            "                                                                 \n",
            " block2_pool (MaxPooling2D)  (None, 56, 56, 128)       0         \n",
            "                                                                 \n",
            " block3_conv1 (Conv2D)       (None, 56, 56, 256)       295168    \n",
            "                                                                 \n",
            " block3_conv2 (Conv2D)       (None, 56, 56, 256)       590080    \n",
            "                                                                 \n",
            " block3_conv3 (Conv2D)       (None, 56, 56, 256)       590080    \n",
            "                                                                 \n",
            " block3_pool (MaxPooling2D)  (None, 28, 28, 256)       0         \n",
            "                                                                 \n",
            " block4_conv1 (Conv2D)       (None, 28, 28, 512)       1180160   \n",
            "                                                                 \n",
            " block4_conv2 (Conv2D)       (None, 28, 28, 512)       2359808   \n",
            "                                                                 \n",
            " block4_conv3 (Conv2D)       (None, 28, 28, 512)       2359808   \n",
            "                                                                 \n",
            " block4_pool (MaxPooling2D)  (None, 14, 14, 512)       0         \n",
            "                                                                 \n",
            " block5_conv1 (Conv2D)       (None, 14, 14, 512)       2359808   \n",
            "                                                                 \n",
            " block5_conv2 (Conv2D)       (None, 14, 14, 512)       2359808   \n",
            "                                                                 \n",
            " block5_conv3 (Conv2D)       (None, 14, 14, 512)       2359808   \n",
            "                                                                 \n",
            " block5_pool (MaxPooling2D)  (None, 7, 7, 512)         0         \n",
            "                                                                 \n",
            " sequential_24 (Sequential)  (None, 3)                 5620611   \n",
            "                                                                 \n",
            "=================================================================\n",
            "Total params: 20,335,299\n",
            "Trainable params: 20,335,299\n",
            "Non-trainable params: 0\n",
            "_________________________________________________________________\n",
            "Model: \"model_25\"\n",
            "_________________________________________________________________\n",
            " Layer (type)                Output Shape              Param #   \n",
            "=================================================================\n",
            " input_2 (InputLayer)        [(None, 224, 224, 3)]     0         \n",
            "                                                                 \n",
            " block1_conv1 (Conv2D)       (None, 224, 224, 64)      1792      \n",
            "                                                                 \n",
            " block1_conv2 (Conv2D)       (None, 224, 224, 64)      36928     \n",
            "                                                                 \n",
            " block1_pool (MaxPooling2D)  (None, 112, 112, 64)      0         \n",
            "                                                                 \n",
            " block2_conv1 (Conv2D)       (None, 112, 112, 128)     73856     \n",
            "                                                                 \n",
            " block2_conv2 (Conv2D)       (None, 112, 112, 128)     147584    \n",
            "                                                                 \n",
            " block2_pool (MaxPooling2D)  (None, 56, 56, 128)       0         \n",
            "                                                                 \n",
            " block3_conv1 (Conv2D)       (None, 56, 56, 256)       295168    \n",
            "                                                                 \n",
            " block3_conv2 (Conv2D)       (None, 56, 56, 256)       590080    \n",
            "                                                                 \n",
            " block3_conv3 (Conv2D)       (None, 56, 56, 256)       590080    \n",
            "                                                                 \n",
            " block3_pool (MaxPooling2D)  (None, 28, 28, 256)       0         \n",
            "                                                                 \n",
            " block4_conv1 (Conv2D)       (None, 28, 28, 512)       1180160   \n",
            "                                                                 \n",
            " block4_conv2 (Conv2D)       (None, 28, 28, 512)       2359808   \n",
            "                                                                 \n",
            " block4_conv3 (Conv2D)       (None, 28, 28, 512)       2359808   \n",
            "                                                                 \n",
            " block4_pool (MaxPooling2D)  (None, 14, 14, 512)       0         \n",
            "                                                                 \n",
            " block5_conv1 (Conv2D)       (None, 14, 14, 512)       2359808   \n",
            "                                                                 \n",
            " block5_conv2 (Conv2D)       (None, 14, 14, 512)       2359808   \n",
            "                                                                 \n",
            " block5_conv3 (Conv2D)       (None, 14, 14, 512)       2359808   \n",
            "                                                                 \n",
            " block5_pool (MaxPooling2D)  (None, 7, 7, 512)         0         \n",
            "                                                                 \n",
            " sequential_25 (Sequential)  (None, 3)                 5620611   \n",
            "                                                                 \n",
            "=================================================================\n",
            "Total params: 20,335,299\n",
            "Trainable params: 20,335,299\n",
            "Non-trainable params: 0\n",
            "_________________________________________________________________\n",
            "Model: \"model_26\"\n",
            "_________________________________________________________________\n",
            " Layer (type)                Output Shape              Param #   \n",
            "=================================================================\n",
            " input_2 (InputLayer)        [(None, 224, 224, 3)]     0         \n",
            "                                                                 \n",
            " block1_conv1 (Conv2D)       (None, 224, 224, 64)      1792      \n",
            "                                                                 \n",
            " block1_conv2 (Conv2D)       (None, 224, 224, 64)      36928     \n",
            "                                                                 \n",
            " block1_pool (MaxPooling2D)  (None, 112, 112, 64)      0         \n",
            "                                                                 \n",
            " block2_conv1 (Conv2D)       (None, 112, 112, 128)     73856     \n",
            "                                                                 \n",
            " block2_conv2 (Conv2D)       (None, 112, 112, 128)     147584    \n",
            "                                                                 \n",
            " block2_pool (MaxPooling2D)  (None, 56, 56, 128)       0         \n",
            "                                                                 \n",
            " block3_conv1 (Conv2D)       (None, 56, 56, 256)       295168    \n",
            "                                                                 \n",
            " block3_conv2 (Conv2D)       (None, 56, 56, 256)       590080    \n",
            "                                                                 \n",
            " block3_conv3 (Conv2D)       (None, 56, 56, 256)       590080    \n",
            "                                                                 \n",
            " block3_pool (MaxPooling2D)  (None, 28, 28, 256)       0         \n",
            "                                                                 \n",
            " block4_conv1 (Conv2D)       (None, 28, 28, 512)       1180160   \n",
            "                                                                 \n",
            " block4_conv2 (Conv2D)       (None, 28, 28, 512)       2359808   \n",
            "                                                                 \n",
            " block4_conv3 (Conv2D)       (None, 28, 28, 512)       2359808   \n",
            "                                                                 \n",
            " block4_pool (MaxPooling2D)  (None, 14, 14, 512)       0         \n",
            "                                                                 \n",
            " block5_conv1 (Conv2D)       (None, 14, 14, 512)       2359808   \n",
            "                                                                 \n",
            " block5_conv2 (Conv2D)       (None, 14, 14, 512)       2359808   \n",
            "                                                                 \n",
            " block5_conv3 (Conv2D)       (None, 14, 14, 512)       2359808   \n",
            "                                                                 \n",
            " block5_pool (MaxPooling2D)  (None, 7, 7, 512)         0         \n",
            "                                                                 \n",
            " sequential_26 (Sequential)  (None, 3)                 5620611   \n",
            "                                                                 \n",
            "=================================================================\n",
            "Total params: 20,335,299\n",
            "Trainable params: 20,335,299\n",
            "Non-trainable params: 0\n",
            "_________________________________________________________________\n",
            "Epoch 1/30\n",
            "81/81 [==============================] - 22s 263ms/step - loss: 1.0506 - accuracy: 0.4720 - recall: 0.6605 - val_loss: 0.9860 - val_accuracy: 0.4444 - val_recall: 0.6429\n",
            "Epoch 2/30\n",
            "81/81 [==============================] - 21s 258ms/step - loss: 0.8373 - accuracy: 0.6273 - recall: 0.8210 - val_loss: 0.7040 - val_accuracy: 0.7037 - val_recall: 0.6071\n",
            "Epoch 3/30\n",
            "81/81 [==============================] - 21s 258ms/step - loss: 0.5072 - accuracy: 0.8199 - recall: 0.9228 - val_loss: 0.5382 - val_accuracy: 0.7407 - val_recall: 0.6786\n",
            "Epoch 4/30\n",
            "81/81 [==============================] - 21s 258ms/step - loss: 0.3207 - accuracy: 0.8789 - recall: 0.9198 - val_loss: 0.4128 - val_accuracy: 0.8519 - val_recall: 0.6310\n",
            "Epoch 5/30\n",
            "81/81 [==============================] - 21s 258ms/step - loss: 0.3233 - accuracy: 0.8540 - recall: 0.9794 - val_loss: 0.2740 - val_accuracy: 0.9259 - val_recall: 0.6310\n",
            "Epoch 6/30\n",
            "81/81 [==============================] - 21s 258ms/step - loss: 0.0982 - accuracy: 0.9783 - recall: 0.9763 - val_loss: 0.2696 - val_accuracy: 0.8889 - val_recall: 0.6667\n",
            "Epoch 7/30\n",
            "81/81 [==============================] - 21s 258ms/step - loss: 0.0930 - accuracy: 0.9658 - recall: 0.9753 - val_loss: 0.4024 - val_accuracy: 0.7778 - val_recall: 0.7143\n",
            "Epoch 8/30\n",
            "81/81 [==============================] - 21s 265ms/step - loss: 0.1294 - accuracy: 0.9627 - recall: 0.9630 - val_loss: 0.3555 - val_accuracy: 0.8148 - val_recall: 0.7143\n",
            "Epoch 9/30\n",
            "81/81 [==============================] - 21s 258ms/step - loss: 0.0287 - accuracy: 0.9969 - recall: 1.0000 - val_loss: 0.1115 - val_accuracy: 0.9630 - val_recall: 0.7143\n",
            "Epoch 10/30\n",
            "81/81 [==============================] - 21s 258ms/step - loss: 0.0056 - accuracy: 1.0000 - recall: 1.0000 - val_loss: 0.1148 - val_accuracy: 0.9630 - val_recall: 0.6667\n",
            "Epoch 11/30\n",
            "81/81 [==============================] - 21s 258ms/step - loss: 0.0023 - accuracy: 1.0000 - recall: 0.9753 - val_loss: 0.1160 - val_accuracy: 0.9630 - val_recall: 0.7143\n",
            "Epoch 12/30\n",
            "81/81 [==============================] - 21s 258ms/step - loss: 0.0012 - accuracy: 1.0000 - recall: 0.9877 - val_loss: 0.1127 - val_accuracy: 0.9630 - val_recall: 0.7143\n",
            "Epoch 13/30\n",
            "81/81 [==============================] - 21s 258ms/step - loss: 9.3032e-04 - accuracy: 1.0000 - recall: 0.9877 - val_loss: 0.1135 - val_accuracy: 0.9630 - val_recall: 0.7143\n",
            "Epoch 14/30\n",
            "81/81 [==============================] - 21s 258ms/step - loss: 7.6893e-04 - accuracy: 1.0000 - recall: 0.9630 - val_loss: 0.1171 - val_accuracy: 0.9259 - val_recall: 0.7143\n",
            "Epoch 15/30\n",
            "81/81 [==============================] - 21s 258ms/step - loss: 6.5660e-04 - accuracy: 1.0000 - recall: 0.9877 - val_loss: 0.1225 - val_accuracy: 0.9259 - val_recall: 0.7143\n",
            "Epoch 16/30\n",
            "81/81 [==============================] - 21s 258ms/step - loss: 5.5991e-04 - accuracy: 1.0000 - recall: 0.9877 - val_loss: 0.1206 - val_accuracy: 0.9259 - val_recall: 0.7143\n",
            "Epoch 17/30\n",
            "81/81 [==============================] - 21s 259ms/step - loss: 4.9908e-04 - accuracy: 1.0000 - recall: 0.9877 - val_loss: 0.1268 - val_accuracy: 0.9259 - val_recall: 0.7143\n",
            "Epoch 18/30\n",
            "81/81 [==============================] - 21s 258ms/step - loss: 4.3742e-04 - accuracy: 1.0000 - recall: 0.9877 - val_loss: 0.1295 - val_accuracy: 0.9259 - val_recall: 0.7143\n",
            "Epoch 19/30\n",
            "81/81 [==============================] - 21s 258ms/step - loss: 3.9362e-04 - accuracy: 1.0000 - recall: 0.9753 - val_loss: 0.1330 - val_accuracy: 0.9259 - val_recall: 0.7143\n",
            "Epoch 20/30\n",
            "81/81 [==============================] - 21s 258ms/step - loss: 3.6010e-04 - accuracy: 1.0000 - recall: 1.0000 - val_loss: 0.1384 - val_accuracy: 0.9259 - val_recall: 0.7143\n",
            "Epoch 21/30\n",
            "81/81 [==============================] - 21s 258ms/step - loss: 3.2581e-04 - accuracy: 1.0000 - recall: 0.9877 - val_loss: 0.1401 - val_accuracy: 0.9259 - val_recall: 0.7143\n",
            "Epoch 22/30\n",
            "81/81 [==============================] - 21s 258ms/step - loss: 3.0104e-04 - accuracy: 1.0000 - recall: 0.9877 - val_loss: 0.1422 - val_accuracy: 0.9259 - val_recall: 0.7143\n",
            "Epoch 23/30\n",
            "81/81 [==============================] - 21s 258ms/step - loss: 2.7853e-04 - accuracy: 1.0000 - recall: 0.9753 - val_loss: 0.1486 - val_accuracy: 0.9259 - val_recall: 0.7143\n",
            "Epoch 24/30\n",
            "81/81 [==============================] - 21s 258ms/step - loss: 2.5695e-04 - accuracy: 1.0000 - recall: 0.9753 - val_loss: 0.1487 - val_accuracy: 0.9259 - val_recall: 0.7143\n",
            "Epoch 25/30\n",
            "81/81 [==============================] - 21s 258ms/step - loss: 2.4052e-04 - accuracy: 1.0000 - recall: 0.9877 - val_loss: 0.1519 - val_accuracy: 0.9259 - val_recall: 0.7143\n",
            "Epoch 26/30\n",
            "81/81 [==============================] - 21s 258ms/step - loss: 2.2595e-04 - accuracy: 1.0000 - recall: 0.9877 - val_loss: 0.1558 - val_accuracy: 0.9259 - val_recall: 0.7143\n",
            "Epoch 27/30\n",
            "81/81 [==============================] - 22s 266ms/step - loss: 2.1134e-04 - accuracy: 1.0000 - recall: 1.0000 - val_loss: 0.1581 - val_accuracy: 0.9259 - val_recall: 0.7143\n",
            "Epoch 28/30\n",
            "81/81 [==============================] - 21s 258ms/step - loss: 1.9980e-04 - accuracy: 1.0000 - recall: 0.9877 - val_loss: 0.1609 - val_accuracy: 0.9259 - val_recall: 0.7143\n",
            "Epoch 29/30\n",
            "81/81 [==============================] - 21s 258ms/step - loss: 1.8912e-04 - accuracy: 1.0000 - recall: 0.9877 - val_loss: 0.1649 - val_accuracy: 0.9259 - val_recall: 0.7143\n",
            "Epoch 30/30\n",
            "81/81 [==============================] - 21s 258ms/step - loss: 1.8035e-04 - accuracy: 1.0000 - recall: 0.9753 - val_loss: 0.1680 - val_accuracy: 0.9259 - val_recall: 0.7143\n",
            "Epoch 1/30\n",
            "41/41 [==============================] - 15s 349ms/step - loss: 0.6618 - accuracy: 0.7391 - recall: 0.9274 - val_loss: 0.4541 - val_accuracy: 0.7778 - val_recall: 0.7188\n",
            "Epoch 2/30\n",
            "41/41 [==============================] - 14s 341ms/step - loss: 0.1634 - accuracy: 0.9472 - recall: 0.9911 - val_loss: 0.3990 - val_accuracy: 0.8148 - val_recall: 0.7500\n",
            "Epoch 3/30\n",
            "41/41 [==============================] - 14s 340ms/step - loss: 0.0688 - accuracy: 0.9783 - recall: 0.9858 - val_loss: 0.1869 - val_accuracy: 0.9259 - val_recall: 0.7143\n",
            "Epoch 4/30\n",
            "41/41 [==============================] - 14s 340ms/step - loss: 0.0455 - accuracy: 0.9876 - recall: 0.9951 - val_loss: 0.2310 - val_accuracy: 0.9259 - val_recall: 0.7500\n",
            "Epoch 5/30\n",
            "41/41 [==============================] - 14s 341ms/step - loss: 0.0159 - accuracy: 1.0000 - recall: 0.9756 - val_loss: 0.3046 - val_accuracy: 0.8889 - val_recall: 0.7500\n",
            "Epoch 6/30\n",
            "41/41 [==============================] - 14s 340ms/step - loss: 0.0060 - accuracy: 1.0000 - recall: 1.0000 - val_loss: 0.2599 - val_accuracy: 0.9259 - val_recall: 0.7500\n",
            "Epoch 7/30\n",
            "41/41 [==============================] - 14s 341ms/step - loss: 0.0037 - accuracy: 1.0000 - recall: 1.0000 - val_loss: 0.2626 - val_accuracy: 0.9259 - val_recall: 0.7500\n",
            "Epoch 8/30\n",
            "41/41 [==============================] - 14s 340ms/step - loss: 0.0027 - accuracy: 1.0000 - recall: 1.0000 - val_loss: 0.2754 - val_accuracy: 0.9259 - val_recall: 0.7500\n",
            "Epoch 9/30\n",
            "41/41 [==============================] - 14s 340ms/step - loss: 0.0022 - accuracy: 1.0000 - recall: 1.0000 - val_loss: 0.2793 - val_accuracy: 0.9259 - val_recall: 0.7500\n",
            "Epoch 10/30\n",
            "41/41 [==============================] - 14s 341ms/step - loss: 0.0018 - accuracy: 1.0000 - recall: 1.0000 - val_loss: 0.3053 - val_accuracy: 0.9259 - val_recall: 0.7500\n",
            "Epoch 11/30\n",
            "41/41 [==============================] - 14s 340ms/step - loss: 0.0015 - accuracy: 1.0000 - recall: 1.0000 - val_loss: 0.3032 - val_accuracy: 0.9259 - val_recall: 0.7500\n",
            "Epoch 12/30\n",
            "41/41 [==============================] - 14s 340ms/step - loss: 0.0013 - accuracy: 1.0000 - recall: 1.0000 - val_loss: 0.3190 - val_accuracy: 0.9259 - val_recall: 0.7500\n",
            "Epoch 13/30\n",
            "41/41 [==============================] - 14s 340ms/step - loss: 0.0012 - accuracy: 1.0000 - recall: 1.0000 - val_loss: 0.3236 - val_accuracy: 0.9259 - val_recall: 0.7500\n",
            "Epoch 14/30\n",
            "41/41 [==============================] - 14s 340ms/step - loss: 0.0010 - accuracy: 1.0000 - recall: 1.0000 - val_loss: 0.3382 - val_accuracy: 0.9259 - val_recall: 0.7500\n",
            "Epoch 15/30\n",
            "41/41 [==============================] - 14s 340ms/step - loss: 9.4185e-04 - accuracy: 1.0000 - recall: 1.0000 - val_loss: 0.3393 - val_accuracy: 0.9259 - val_recall: 0.7500\n",
            "Epoch 16/30\n",
            "41/41 [==============================] - 14s 340ms/step - loss: 8.4186e-04 - accuracy: 1.0000 - recall: 1.0000 - val_loss: 0.3651 - val_accuracy: 0.9259 - val_recall: 0.7500\n",
            "Epoch 17/30\n",
            "41/41 [==============================] - 14s 341ms/step - loss: 7.9193e-04 - accuracy: 1.0000 - recall: 1.0000 - val_loss: 0.3490 - val_accuracy: 0.9259 - val_recall: 0.7500\n",
            "Epoch 18/30\n",
            "41/41 [==============================] - 14s 340ms/step - loss: 7.3138e-04 - accuracy: 1.0000 - recall: 0.9756 - val_loss: 0.3689 - val_accuracy: 0.9259 - val_recall: 0.7500\n",
            "Epoch 19/30\n",
            "41/41 [==============================] - 14s 340ms/step - loss: 6.4650e-04 - accuracy: 1.0000 - recall: 1.0000 - val_loss: 0.3648 - val_accuracy: 0.9259 - val_recall: 0.7500\n",
            "Epoch 20/30\n",
            "41/41 [==============================] - 14s 340ms/step - loss: 6.0437e-04 - accuracy: 1.0000 - recall: 1.0000 - val_loss: 0.3675 - val_accuracy: 0.9259 - val_recall: 0.7500\n",
            "Epoch 21/30\n",
            "41/41 [==============================] - 14s 340ms/step - loss: 5.6616e-04 - accuracy: 1.0000 - recall: 1.0000 - val_loss: 0.3757 - val_accuracy: 0.9259 - val_recall: 0.7500\n",
            "Epoch 22/30\n",
            "41/41 [==============================] - 14s 340ms/step - loss: 5.2634e-04 - accuracy: 1.0000 - recall: 1.0000 - val_loss: 0.3830 - val_accuracy: 0.9259 - val_recall: 0.7500\n",
            "Epoch 23/30\n",
            "41/41 [==============================] - 14s 340ms/step - loss: 4.9162e-04 - accuracy: 1.0000 - recall: 1.0000 - val_loss: 0.3822 - val_accuracy: 0.9259 - val_recall: 0.7500\n",
            "Epoch 24/30\n",
            "41/41 [==============================] - 14s 339ms/step - loss: 4.6279e-04 - accuracy: 1.0000 - recall: 1.0000 - val_loss: 0.3961 - val_accuracy: 0.9259 - val_recall: 0.7500\n",
            "Epoch 25/30\n",
            "41/41 [==============================] - 14s 340ms/step - loss: 4.3820e-04 - accuracy: 1.0000 - recall: 1.0000 - val_loss: 0.3995 - val_accuracy: 0.9259 - val_recall: 0.7500\n",
            "Epoch 26/30\n",
            "41/41 [==============================] - 14s 341ms/step - loss: 4.1442e-04 - accuracy: 1.0000 - recall: 1.0000 - val_loss: 0.3960 - val_accuracy: 0.9259 - val_recall: 0.7500\n",
            "Epoch 27/30\n",
            "41/41 [==============================] - 14s 340ms/step - loss: 3.9246e-04 - accuracy: 1.0000 - recall: 1.0000 - val_loss: 0.4053 - val_accuracy: 0.9259 - val_recall: 0.7500\n",
            "Epoch 28/30\n",
            "41/41 [==============================] - 14s 340ms/step - loss: 3.7448e-04 - accuracy: 1.0000 - recall: 1.0000 - val_loss: 0.4107 - val_accuracy: 0.9259 - val_recall: 0.7500\n",
            "Epoch 29/30\n",
            "41/41 [==============================] - 14s 341ms/step - loss: 3.5771e-04 - accuracy: 1.0000 - recall: 0.9756 - val_loss: 0.4110 - val_accuracy: 0.9259 - val_recall: 0.7500\n",
            "Epoch 30/30\n",
            "41/41 [==============================] - 14s 340ms/step - loss: 3.4298e-04 - accuracy: 1.0000 - recall: 1.0000 - val_loss: 0.4152 - val_accuracy: 0.9259 - val_recall: 0.7500\n",
            "Epoch 1/30\n",
            "21/21 [==============================] - 11s 471ms/step - loss: 0.7199 - accuracy: 0.7143 - recall: 0.9583 - val_loss: 0.6904 - val_accuracy: 0.7037 - val_recall: 1.0000\n",
            "Epoch 2/30\n",
            "21/21 [==============================] - 10s 456ms/step - loss: 0.2249 - accuracy: 0.9130 - recall: 0.9758 - val_loss: 0.3706 - val_accuracy: 0.8889 - val_recall: 1.0000\n",
            "Epoch 3/30\n",
            "21/21 [==============================] - 10s 455ms/step - loss: 0.0564 - accuracy: 0.9907 - recall: 0.9524 - val_loss: 0.3010 - val_accuracy: 0.8519 - val_recall: 0.9286\n",
            "Epoch 4/30\n",
            "21/21 [==============================] - 10s 456ms/step - loss: 0.0215 - accuracy: 1.0000 - recall: 1.0000 - val_loss: 0.3248 - val_accuracy: 0.8519 - val_recall: 1.0000\n",
            "Epoch 5/30\n",
            "21/21 [==============================] - 10s 455ms/step - loss: 0.0102 - accuracy: 1.0000 - recall: 1.0000 - val_loss: 0.2618 - val_accuracy: 0.9259 - val_recall: 1.0000\n",
            "Epoch 6/30\n",
            "21/21 [==============================] - 10s 456ms/step - loss: 0.0069 - accuracy: 1.0000 - recall: 1.0000 - val_loss: 0.2770 - val_accuracy: 0.8889 - val_recall: 1.0000\n",
            "Epoch 7/30\n",
            "21/21 [==============================] - 10s 455ms/step - loss: 0.0050 - accuracy: 1.0000 - recall: 1.0000 - val_loss: 0.2468 - val_accuracy: 0.9259 - val_recall: 1.0000\n",
            "Epoch 8/30\n",
            "21/21 [==============================] - 10s 455ms/step - loss: 0.0041 - accuracy: 1.0000 - recall: 0.9524 - val_loss: 0.2876 - val_accuracy: 0.8889 - val_recall: 1.0000\n",
            "Epoch 9/30\n",
            "21/21 [==============================] - 10s 456ms/step - loss: 0.0031 - accuracy: 1.0000 - recall: 1.0000 - val_loss: 0.3108 - val_accuracy: 0.8889 - val_recall: 1.0000\n",
            "Epoch 10/30\n",
            "21/21 [==============================] - 10s 455ms/step - loss: 0.0027 - accuracy: 1.0000 - recall: 1.0000 - val_loss: 0.3088 - val_accuracy: 0.8889 - val_recall: 1.0000\n",
            "Epoch 11/30\n",
            "21/21 [==============================] - 10s 456ms/step - loss: 0.0024 - accuracy: 1.0000 - recall: 1.0000 - val_loss: 0.3137 - val_accuracy: 0.8889 - val_recall: 1.0000\n",
            "Epoch 12/30\n",
            "21/21 [==============================] - 10s 455ms/step - loss: 0.0021 - accuracy: 1.0000 - recall: 1.0000 - val_loss: 0.3197 - val_accuracy: 0.8889 - val_recall: 1.0000\n",
            "Epoch 13/30\n",
            "21/21 [==============================] - 10s 455ms/step - loss: 0.0018 - accuracy: 1.0000 - recall: 1.0000 - val_loss: 0.3396 - val_accuracy: 0.8889 - val_recall: 1.0000\n",
            "Epoch 14/30\n",
            "21/21 [==============================] - 10s 455ms/step - loss: 0.0017 - accuracy: 1.0000 - recall: 0.9524 - val_loss: 0.3156 - val_accuracy: 0.9259 - val_recall: 1.0000\n",
            "Epoch 15/30\n",
            "21/21 [==============================] - 10s 455ms/step - loss: 0.0016 - accuracy: 1.0000 - recall: 1.0000 - val_loss: 0.3283 - val_accuracy: 0.8889 - val_recall: 1.0000\n",
            "Epoch 16/30\n",
            "21/21 [==============================] - 10s 455ms/step - loss: 0.0014 - accuracy: 1.0000 - recall: 1.0000 - val_loss: 0.3375 - val_accuracy: 0.8889 - val_recall: 1.0000\n",
            "Epoch 17/30\n",
            "21/21 [==============================] - 10s 454ms/step - loss: 0.0013 - accuracy: 1.0000 - recall: 0.9524 - val_loss: 0.3451 - val_accuracy: 0.8889 - val_recall: 1.0000\n",
            "Epoch 18/30\n",
            "21/21 [==============================] - 10s 454ms/step - loss: 0.0012 - accuracy: 1.0000 - recall: 1.0000 - val_loss: 0.3396 - val_accuracy: 0.8889 - val_recall: 1.0000\n",
            "Epoch 19/30\n",
            "21/21 [==============================] - 10s 456ms/step - loss: 0.0011 - accuracy: 1.0000 - recall: 1.0000 - val_loss: 0.3626 - val_accuracy: 0.8889 - val_recall: 1.0000\n",
            "Epoch 20/30\n",
            "21/21 [==============================] - 10s 454ms/step - loss: 0.0010 - accuracy: 1.0000 - recall: 1.0000 - val_loss: 0.3440 - val_accuracy: 0.8889 - val_recall: 1.0000\n",
            "Epoch 21/30\n",
            "21/21 [==============================] - 10s 454ms/step - loss: 9.5338e-04 - accuracy: 1.0000 - recall: 1.0000 - val_loss: 0.3557 - val_accuracy: 0.8889 - val_recall: 1.0000\n",
            "Epoch 22/30\n",
            "21/21 [==============================] - 10s 454ms/step - loss: 9.0238e-04 - accuracy: 1.0000 - recall: 1.0000 - val_loss: 0.3584 - val_accuracy: 0.8889 - val_recall: 1.0000\n",
            "Epoch 23/30\n",
            "21/21 [==============================] - 10s 455ms/step - loss: 8.6052e-04 - accuracy: 1.0000 - recall: 1.0000 - val_loss: 0.3592 - val_accuracy: 0.8889 - val_recall: 1.0000\n",
            "Epoch 24/30\n",
            "21/21 [==============================] - 10s 455ms/step - loss: 7.9899e-04 - accuracy: 1.0000 - recall: 1.0000 - val_loss: 0.3691 - val_accuracy: 0.8889 - val_recall: 1.0000\n",
            "Epoch 25/30\n",
            "21/21 [==============================] - 10s 455ms/step - loss: 7.6542e-04 - accuracy: 1.0000 - recall: 1.0000 - val_loss: 0.3689 - val_accuracy: 0.8889 - val_recall: 1.0000\n",
            "Epoch 26/30\n",
            "21/21 [==============================] - 10s 456ms/step - loss: 7.7842e-04 - accuracy: 1.0000 - recall: 1.0000 - val_loss: 0.3529 - val_accuracy: 0.9259 - val_recall: 1.0000\n",
            "Epoch 27/30\n",
            "21/21 [==============================] - 10s 455ms/step - loss: 6.9971e-04 - accuracy: 1.0000 - recall: 1.0000 - val_loss: 0.3895 - val_accuracy: 0.8889 - val_recall: 1.0000\n",
            "Epoch 28/30\n",
            "21/21 [==============================] - 10s 455ms/step - loss: 6.5445e-04 - accuracy: 1.0000 - recall: 0.9524 - val_loss: 0.3754 - val_accuracy: 0.8889 - val_recall: 1.0000\n",
            "Epoch 29/30\n",
            "21/21 [==============================] - 10s 455ms/step - loss: 6.2995e-04 - accuracy: 1.0000 - recall: 1.0000 - val_loss: 0.3835 - val_accuracy: 0.8889 - val_recall: 1.0000\n",
            "Epoch 30/30\n",
            "21/21 [==============================] - 10s 455ms/step - loss: 6.0154e-04 - accuracy: 1.0000 - recall: 1.0000 - val_loss: 0.3837 - val_accuracy: 0.8889 - val_recall: 1.0000\n",
            "Epoch 1/30\n",
            "11/11 [==============================] - 11s 855ms/step - loss: 0.9722 - accuracy: 0.6180 - recall: 0.9284 - val_loss: 0.4415 - val_accuracy: 0.7407 - val_recall: 1.0000\n",
            "Epoch 2/30\n",
            "11/11 [==============================] - 9s 821ms/step - loss: 0.3394 - accuracy: 0.8696 - recall: 0.9638 - val_loss: 0.1066 - val_accuracy: 0.9259 - val_recall: 1.0000\n",
            "Epoch 3/30\n",
            "11/11 [==============================] - 9s 820ms/step - loss: 0.2655 - accuracy: 0.9006 - recall: 0.9959 - val_loss: 0.3231 - val_accuracy: 0.8889 - val_recall: 1.0000\n",
            "Epoch 4/30\n",
            "11/11 [==============================] - 9s 822ms/step - loss: 0.1168 - accuracy: 0.9658 - recall: 0.9915 - val_loss: 0.0969 - val_accuracy: 1.0000 - val_recall: 1.0000\n",
            "Epoch 5/30\n",
            "11/11 [==============================] - 9s 821ms/step - loss: 0.0676 - accuracy: 0.9876 - recall: 0.8998 - val_loss: 0.1181 - val_accuracy: 0.9630 - val_recall: 1.0000\n",
            "Epoch 6/30\n",
            "11/11 [==============================] - 9s 820ms/step - loss: 0.0364 - accuracy: 1.0000 - recall: 1.0000 - val_loss: 0.2697 - val_accuracy: 0.8889 - val_recall: 1.0000\n",
            "Epoch 7/30\n",
            "11/11 [==============================] - 9s 819ms/step - loss: 0.0211 - accuracy: 1.0000 - recall: 1.0000 - val_loss: 0.1308 - val_accuracy: 0.9259 - val_recall: 1.0000\n",
            "Epoch 8/30\n",
            "11/11 [==============================] - 9s 821ms/step - loss: 0.0168 - accuracy: 1.0000 - recall: 1.0000 - val_loss: 0.1079 - val_accuracy: 0.9259 - val_recall: 1.0000\n",
            "Epoch 9/30\n",
            "11/11 [==============================] - 9s 818ms/step - loss: 0.0122 - accuracy: 1.0000 - recall: 1.0000 - val_loss: 0.2139 - val_accuracy: 0.8889 - val_recall: 1.0000\n",
            "Epoch 10/30\n",
            "11/11 [==============================] - 9s 819ms/step - loss: 0.0095 - accuracy: 1.0000 - recall: 0.9091 - val_loss: 0.1702 - val_accuracy: 0.8889 - val_recall: 1.0000\n",
            "Epoch 11/30\n",
            "11/11 [==============================] - 9s 818ms/step - loss: 0.0079 - accuracy: 1.0000 - recall: 1.0000 - val_loss: 0.1336 - val_accuracy: 0.9259 - val_recall: 1.0000\n",
            "Epoch 12/30\n",
            "11/11 [==============================] - 9s 819ms/step - loss: 0.0065 - accuracy: 1.0000 - recall: 1.0000 - val_loss: 0.2064 - val_accuracy: 0.8889 - val_recall: 1.0000\n",
            "Epoch 13/30\n",
            "11/11 [==============================] - 9s 818ms/step - loss: 0.0057 - accuracy: 1.0000 - recall: 1.0000 - val_loss: 0.2134 - val_accuracy: 0.8889 - val_recall: 1.0000\n",
            "Epoch 14/30\n",
            "11/11 [==============================] - 9s 819ms/step - loss: 0.0050 - accuracy: 1.0000 - recall: 1.0000 - val_loss: 0.1835 - val_accuracy: 0.8889 - val_recall: 1.0000\n",
            "Epoch 15/30\n",
            "11/11 [==============================] - 9s 819ms/step - loss: 0.0045 - accuracy: 1.0000 - recall: 0.9091 - val_loss: 0.1720 - val_accuracy: 0.8889 - val_recall: 1.0000\n",
            "Epoch 16/30\n",
            "11/11 [==============================] - 9s 821ms/step - loss: 0.0041 - accuracy: 1.0000 - recall: 1.0000 - val_loss: 0.1829 - val_accuracy: 0.8889 - val_recall: 1.0000\n",
            "Epoch 17/30\n",
            "11/11 [==============================] - 9s 822ms/step - loss: 0.0037 - accuracy: 1.0000 - recall: 1.0000 - val_loss: 0.1956 - val_accuracy: 0.8889 - val_recall: 1.0000\n",
            "Epoch 18/30\n",
            "11/11 [==============================] - 9s 818ms/step - loss: 0.0034 - accuracy: 1.0000 - recall: 1.0000 - val_loss: 0.2014 - val_accuracy: 0.8889 - val_recall: 1.0000\n",
            "Epoch 19/30\n",
            "11/11 [==============================] - 9s 819ms/step - loss: 0.0032 - accuracy: 1.0000 - recall: 1.0000 - val_loss: 0.1877 - val_accuracy: 0.8889 - val_recall: 1.0000\n",
            "Epoch 20/30\n",
            "11/11 [==============================] - 9s 820ms/step - loss: 0.0030 - accuracy: 1.0000 - recall: 1.0000 - val_loss: 0.2012 - val_accuracy: 0.8889 - val_recall: 1.0000\n",
            "Epoch 21/30\n",
            "11/11 [==============================] - 9s 820ms/step - loss: 0.0028 - accuracy: 1.0000 - recall: 1.0000 - val_loss: 0.2338 - val_accuracy: 0.8889 - val_recall: 1.0000\n",
            "Epoch 22/30\n",
            "11/11 [==============================] - 9s 818ms/step - loss: 0.0026 - accuracy: 1.0000 - recall: 1.0000 - val_loss: 0.2204 - val_accuracy: 0.8889 - val_recall: 1.0000\n",
            "Epoch 23/30\n",
            "11/11 [==============================] - 9s 820ms/step - loss: 0.0024 - accuracy: 1.0000 - recall: 1.0000 - val_loss: 0.2119 - val_accuracy: 0.8889 - val_recall: 1.0000\n",
            "Epoch 24/30\n",
            "11/11 [==============================] - 9s 818ms/step - loss: 0.0022 - accuracy: 1.0000 - recall: 1.0000 - val_loss: 0.2091 - val_accuracy: 0.8889 - val_recall: 1.0000\n",
            "Epoch 25/30\n",
            "11/11 [==============================] - 9s 821ms/step - loss: 0.0021 - accuracy: 1.0000 - recall: 0.9091 - val_loss: 0.2171 - val_accuracy: 0.8889 - val_recall: 1.0000\n",
            "Epoch 26/30\n",
            "11/11 [==============================] - 9s 818ms/step - loss: 0.0021 - accuracy: 1.0000 - recall: 1.0000 - val_loss: 0.1754 - val_accuracy: 0.9259 - val_recall: 1.0000\n",
            "Epoch 27/30\n",
            "11/11 [==============================] - 9s 818ms/step - loss: 0.0021 - accuracy: 1.0000 - recall: 0.9091 - val_loss: 0.1788 - val_accuracy: 0.8889 - val_recall: 1.0000\n",
            "Epoch 28/30\n",
            "11/11 [==============================] - 9s 818ms/step - loss: 0.0019 - accuracy: 1.0000 - recall: 0.9091 - val_loss: 0.1773 - val_accuracy: 0.8889 - val_recall: 1.0000\n",
            "Epoch 29/30\n",
            "11/11 [==============================] - 9s 818ms/step - loss: 0.0017 - accuracy: 1.0000 - recall: 1.0000 - val_loss: 0.2054 - val_accuracy: 0.8889 - val_recall: 1.0000\n",
            "Epoch 30/30\n",
            "11/11 [==============================] - 9s 816ms/step - loss: 0.0016 - accuracy: 1.0000 - recall: 0.9091 - val_loss: 0.2277 - val_accuracy: 0.8889 - val_recall: 1.0000\n"
          ]
        }
      ]
    },
    {
      "cell_type": "code",
      "source": [
        "import pandas as pd\n",
        "import matplotlib.pyplot as plt\n",
        "\n",
        "\n",
        "pd.DataFrame(history1.history).plot(figsize=(8, 5))\n",
        "plt.grid(True)\n",
        "plt.gca().set_ylim(0, 1)\n",
        "plt.show()"
      ],
      "metadata": {
        "colab": {
          "base_uri": "https://localhost:8080/",
          "height": 324
        },
        "id": "WqFsXqpT3tSR",
        "outputId": "fee36911-49f9-4a44-d523-d0a89122db82"
      },
      "execution_count": 47,
      "outputs": [
        {
          "output_type": "display_data",
          "data": {
            "text/plain": [
              "<Figure size 576x360 with 1 Axes>"
            ],
            "image/png": "[encoded data removed]"
          },
          "metadata": {
            "needs_background": "light"
          }
        }
      ]
    },
    {
      "cell_type": "code",
      "source": [
        "pd.DataFrame(history2.history).plot(figsize=(8, 5))\n",
        "plt.grid(True)\n",
        "plt.gca().set_ylim(0, 1)\n",
        "plt.show()"
      ],
      "metadata": {
        "colab": {
          "base_uri": "https://localhost:8080/",
          "height": 324
        },
        "id": "BPeBpK1m3tWT",
        "outputId": "0944ba1c-ff55-4b0b-b1c5-7b5721b062ee"
      },
      "execution_count": 48,
      "outputs": [
        {
          "output_type": "display_data",
          "data": {
            "text/plain": [
              "<Figure size 576x360 with 1 Axes>"
            ],
            "image/png": "[encoded data removed]"
          },
          "metadata": {
            "needs_background": "light"
          }
        }
      ]
    },
    {
      "cell_type": "code",
      "source": [
        "pd.DataFrame(history3.history).plot(figsize=(8, 5))\n",
        "plt.grid(True)\n",
        "plt.gca().set_ylim(0, 1)\n",
        "plt.show()"
      ],
      "metadata": {
        "colab": {
          "base_uri": "https://localhost:8080/",
          "height": 324
        },
        "id": "XO7JdI2Y3taH",
        "outputId": "87c6e779-19a7-42e7-9137-6f8dcecf2177"
      },
      "execution_count": 49,
      "outputs": [
        {
          "output_type": "display_data",
          "data": {
            "text/plain": [
              "<Figure size 576x360 with 1 Axes>"
            ],
            "image/png": "[encoded data removed]"
          },
          "metadata": {
            "needs_background": "light"
          }
        }
      ]
    },
    {
      "cell_type": "code",
      "source": [
        "pd.DataFrame(history4.history).plot(figsize=(8, 5))\n",
        "plt.grid(True)\n",
        "plt.gca().set_ylim(0, 1)\n",
        "plt.show()"
      ],
      "metadata": {
        "colab": {
          "base_uri": "https://localhost:8080/",
          "height": 324
        },
        "id": "2xZ295pT3tdQ",
        "outputId": "60eb1247-8435-402a-dc92-cdce603c8eb9"
      },
      "execution_count": 50,
      "outputs": [
        {
          "output_type": "display_data",
          "data": {
            "text/plain": [
              "<Figure size 576x360 with 1 Axes>"
            ],
            "image/png": "[encoded data removed]"
          },
          "metadata": {
            "needs_background": "light"
          }
        }
      ]
    },
    {
      "cell_type": "code",
      "source": [
        ""
      ],
      "metadata": {
        "id": "PCjj8HyZ3thS"
      },
      "execution_count": 41,
      "outputs": []
    },
    {
      "cell_type": "code",
      "source": [
        ""
      ],
      "metadata": {
        "id": "2i-ET6_R3tkw"
      },
      "execution_count": 36,
      "outputs": []
    },
    {
      "cell_type": "code",
      "source": [
        ""
      ],
      "metadata": {
        "id": "k1Ak_rGg3tn4"
      },
      "execution_count": 36,
      "outputs": []
    },
    {
      "cell_type": "code",
      "source": [
        ""
      ],
      "metadata": {
        "id": "i9X5V8Mb3trI"
      },
      "execution_count": 36,
      "outputs": []
    },
    {
      "cell_type": "code",
      "source": [
        ""
      ],
      "metadata": {
        "id": "MyaNQLHS3tvI"
      },
      "execution_count": 36,
      "outputs": []
    },
    {
      "cell_type": "code",
      "source": [
        ""
      ],
      "metadata": {
        "id": "O29Z4m_13tys"
      },
      "execution_count": 36,
      "outputs": []
    }
  ]
}