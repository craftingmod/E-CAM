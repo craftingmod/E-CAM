{
 "cells": [
  {
   "cell_type": "code",
   "execution_count": 2,
   "metadata": {},
   "outputs": [],
   "source": [
    "import tensorflow as tf\n",
    "import numpy as np"
   ]
  },
  {
   "cell_type": "code",
   "execution_count": 4,
   "metadata": {},
   "outputs": [],
   "source": [
    "# Load TFLite model and allocate tensors.\n",
    "\n",
    "interpreter = tf.lite.Interpreter(model_path=\"./data/model2.tflite\")\n",
    "interpreter.allocate_tensors()"
   ]
  },
  {
   "cell_type": "code",
   "execution_count": null,
   "metadata": {},
   "outputs": [],
   "source": [
    "# Get input and output tensors.\n",
    "input_details = interpreter.get_input_details()\n",
    "output_details = interpreter.get_output_details()\n",
    "\n",
    "# Test model on random input data.\n",
    "input_shape = input_details[0]['shape']\n",
    "input_data = np.array(np.random.random_sample(input_shape), dtype=np.float32)\n",
    "interpreter.set_tensor(input_details[0]['index'], input_data)\n",
    "\n",
    "interpreter.invoke()\n",
    "output_data = interpreter.get_tensor(output_details[0]['index'])\n",
    "print(output_data)"
   ]
  },
  {
   "cell_type": "code",
   "execution_count": 5,
   "metadata": {},
   "outputs": [],
   "source": [
    "# Get input and output tensors.\n",
    "input_details = interpreter.get_input_details()\n",
    "output_details = interpreter.get_output_details()"
   ]
  },
  {
   "cell_type": "code",
   "execution_count": 6,
   "metadata": {},
   "outputs": [
    {
     "name": "stdout",
     "output_type": "stream",
     "text": [
      "input : [[[[350. 560. 169.]\n",
      "   [735. 712. 159.]\n",
      "   [  5. 989. 383.]\n",
      "   ...\n",
      "   [  9. 835. 895.]\n",
      "   [177. 411.  45.]\n",
      "   [213. 870. 169.]]\n",
      "\n",
      "  [[ 94. 528. 345.]\n",
      "   [265. 324. 588.]\n",
      "   [607.   3. 985.]\n",
      "   ...\n",
      "   [284. 348. 918.]\n",
      "   [ 62. 671. 612.]\n",
      "   [988. 828.  82.]]\n",
      "\n",
      "  [[690.  42. 753.]\n",
      "   [ 84. 592. 382.]\n",
      "   [871. 551. 161.]\n",
      "   ...\n",
      "   [426. 962. 854.]\n",
      "   [215. 368. 374.]\n",
      "   [169. 776. 842.]]\n",
      "\n",
      "  ...\n",
      "\n",
      "  [[955. 811. 355.]\n",
      "   [740. 516. 458.]\n",
      "   [178. 649. 831.]\n",
      "   ...\n",
      "   [548. 428. 271.]\n",
      "   [399. 280. 229.]\n",
      "   [855. 879. 569.]]\n",
      "\n",
      "  [[ 51.  25. 513.]\n",
      "   [752.  59. 685.]\n",
      "   [690. 489. 387.]\n",
      "   ...\n",
      "   [151. 165. 409.]\n",
      "   [506. 136. 829.]\n",
      "   [722. 695.  46.]]\n",
      "\n",
      "  [[146. 133. 945.]\n",
      "   [ 43. 928. 561.]\n",
      "   [552. 934. 459.]\n",
      "   ...\n",
      "   [204. 906. 916.]\n",
      "   [407. 969.  25.]\n",
      "   [508. 872. 457.]]]]\n",
      "output : [[9.98963118e-01 1.03688997e-03 1.15101906e-23]]\n"
     ]
    }
   ],
   "source": [
    "# Test model on random input data.\n",
    "input_shape = input_details[0]['shape']\n",
    "#input_data = np.array(np.random.random_sample(input_shape), dtype=np.float32)\n",
    "input_data = np.array(np.random.randint(0,1000, size=input_shape), dtype=np.float32)\n",
    "\n",
    "#input_data = np.array([[1]], dtype=np.float32)\n",
    "print(\"input : %s\" % input_data)\n",
    "\n",
    "interpreter.set_tensor(input_details[0]['index'], input_data)\n",
    "\n",
    "interpreter.invoke()\n",
    "\n",
    "# The function `get_tensor()` returns a copy of the tensor data.\n",
    "# Use `tensor()` in order to get a pointer to the tensor.\n",
    "output_data = interpreter.get_tensor(output_details[0]['index'])\n",
    "print(\"output : %s\" % output_data)"
   ]
  }
 ],
 "metadata": {
  "interpreter": {
   "hash": "2a5a16da477fa819e41efca1dc7b4a6c7f0b5f23c065e5c63ee0b0d230aaaa95"
  },
  "kernelspec": {
   "display_name": "Python 3.10.2 ('venv': venv)",
   "language": "python",
   "name": "python3"
  },
  "language_info": {
   "codemirror_mode": {
    "name": "ipython",
    "version": 3
   },
   "file_extension": ".py",
   "mimetype": "text/x-python",
   "name": "python",
   "nbconvert_exporter": "python",
   "pygments_lexer": "ipython3",
   "version": "3.10.2"
  },
  "orig_nbformat": 4
 },
 "nbformat": 4,
 "nbformat_minor": 2
}
