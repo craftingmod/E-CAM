{
 "cells": [
  {
   "cell_type": "code",
   "execution_count": 1,
   "id": "021df7fc-e927-4013-87f0-825b0d3a0594",
   "metadata": {},
   "outputs": [],
   "source": [
    "import numpy as np\n",
    "import pandas as pd\n",
    "import os\n",
    "import zipfile"
   ]
  },
  {
   "cell_type": "code",
   "execution_count": 2,
   "id": "2f16c7ee-6d33-4694-8e56-f23659cce81e",
   "metadata": {},
   "outputs": [],
   "source": [
    "p0_dir = './level0'\n",
    "p1_dir = './level1'\n",
    "p2_dir = './level2'\n",
    "\n",
    "p0_names = os.listdir(p0_dir)\n",
    "p1_names = os.listdir(p1_dir)\n",
    "p2_names = os.listdir(p2_dir)"
   ]
  },
  {
   "cell_type": "code",
   "execution_count": 3,
   "id": "9707f81a-8be7-415c-bf56-e66629958ca1",
   "metadata": {},
   "outputs": [
    {
     "name": "stdout",
     "output_type": "stream",
     "text": [
      "['002.png', '016.png', '017.png', '003.png', '029.png', '015.png', '001.png', '014.png', '028.png', '010.png', '004.png', '038.png', '039.png', '005.png', '011.png', '007.png', '013.png', '012.png', '006.png', '115.png', '101.png', '049.png', '061.png', '075.png', '074.png', '060.png', '048.png', '100.png', '114.png', '102.png', '116.png', '076.png', '062.png', '089.png', '088.png', '063.png', '077.png', '117.png', '103.png', '107.png', '113.png', '073.png', '067.png', '098.png', '099.png', '066.png', '072.png', '112.png', '106.png', '110.png', '104.png', '064.png', '070.png', '058.png', '059.png', '071.png', '065.png', '105.png', '111.png', '108.png', '068.png', '040.png', '054.png', '083.png', '097.png', '096.png', '082.png', '055.png', '041.png', '069.png', '109.png', '057.png', '043.png', '094.png', '080.png', '081.png', '095.png', '042.png', '056.png', '052.png', '046.png', '091.png', '085.png', '084.png', '090.png', '047.png', '053.png', '119.png', '045.png', '051.png', '079.png', '086.png', '092.png', '093.png', '087.png', '078.png', '050.png', '044.png', '118.png', '023.png', '037.png', '036.png', '022.png', '008.png', '034.png', '020.png', '021.png', '035.png', '009.png', '031.png', '025.png', '019.png', '018.png', '024.png', '030.png', '026.png', '032.png', '033.png', '027.png']\n"
     ]
    }
   ],
   "source": [
    "print(p1_names)"
   ]
  },
  {
   "cell_type": "markdown",
   "id": "e55cab71-7fdd-42c5-826f-7f851e2c5e14",
   "metadata": {},
   "source": [
    "### p0"
   ]
  },
  {
   "cell_type": "code",
   "execution_count": 4,
   "id": "e80df234-717e-4037-b3ba-0de93ceaf67f",
   "metadata": {},
   "outputs": [],
   "source": [
    "p0 = np.empty((0, 150529), float)"
   ]
  },
  {
   "cell_type": "code",
   "execution_count": 5,
   "id": "0ebd6cec-56b5-4a65-9e5c-f590099cb1de",
   "metadata": {
    "tags": []
   },
   "outputs": [
    {
     "name": "stdout",
     "output_type": "stream",
     "text": [
      "(129, 150529)\n",
      "<class 'numpy.ndarray'>\n"
     ]
    }
   ],
   "source": [
    "from PIL import Image\n",
    "\n",
    "for i in p0_names:\n",
    "    img = Image.open('./level0/' + str(i)).convert('RGB')\n",
    "    img = np.array(img)\n",
    "    img = img.flatten()\n",
    "    img = np.append(img, np.array([0]))\n",
    "    img = img.reshape(1,150529)\n",
    "    # print(img.shape)\n",
    "    p0 = np.append(p0, img, axis=0)\n",
    "     \n",
    "\n",
    "print(p0.shape)\n",
    "print(type(p0))\n",
    "\n"
   ]
  },
  {
   "cell_type": "markdown",
   "id": "1aafdb9f-e08d-41b4-9edc-ebacf18033d4",
   "metadata": {},
   "source": [
    "### p1"
   ]
  },
  {
   "cell_type": "code",
   "execution_count": 6,
   "id": "e51b7d35-6a79-47dc-bf8b-29bc39dd7b81",
   "metadata": {},
   "outputs": [],
   "source": [
    "p1 = np.empty((0, 150529), float)"
   ]
  },
  {
   "cell_type": "code",
   "execution_count": 7,
   "id": "3e501b07-adae-48f2-9bd9-d20ed122d3e5",
   "metadata": {},
   "outputs": [
    {
     "name": "stdout",
     "output_type": "stream",
     "text": [
      "(119, 150529)\n",
      "<class 'numpy.ndarray'>\n"
     ]
    }
   ],
   "source": [
    "from PIL import Image\n",
    "\n",
    "for i in p1_names:\n",
    "    img = Image.open('./level1/' + str(i)).convert('RGB')\n",
    "    img = np.array(img)\n",
    "    img = img.flatten()\n",
    "    img = np.append(img, np.array([1]))\n",
    "    img = img.reshape(1,150529)\n",
    "    # print(img.shape)\n",
    "    p1 = np.append(p1, img, axis=0)\n",
    "     \n",
    "\n",
    "print(p1.shape)\n",
    "print(type(p1))\n",
    "\n"
   ]
  },
  {
   "cell_type": "markdown",
   "id": "6804aec3-da27-4f3a-b6f9-d74da0b5546a",
   "metadata": {},
   "source": [
    "### p2"
   ]
  },
  {
   "cell_type": "code",
   "execution_count": 8,
   "id": "2322d0e8-05bc-408f-bf06-09b3c930b174",
   "metadata": {},
   "outputs": [],
   "source": [
    "p2 = np.empty((0, 150529), float)"
   ]
  },
  {
   "cell_type": "code",
   "execution_count": 9,
   "id": "529f6978-ee54-4451-a6ed-10284e09ca71",
   "metadata": {},
   "outputs": [
    {
     "name": "stdout",
     "output_type": "stream",
     "text": [
      "(71, 150529)\n",
      "<class 'numpy.ndarray'>\n"
     ]
    }
   ],
   "source": [
    "from PIL import Image\n",
    "\n",
    "for i in p2_names:\n",
    "    img = Image.open('./level2/' + str(i)).convert('RGB')\n",
    "    img = np.array(img)\n",
    "    img = img.flatten()\n",
    "    img = np.append(img, np.array([2]))\n",
    "    img = img.reshape(1,150529)\n",
    "    # print(img.shape)\n",
    "    p2 = np.append(p2, img, axis=0)\n",
    "     \n",
    "\n",
    "print(p2.shape)\n",
    "print(type(p2))\n",
    "\n"
   ]
  },
  {
   "cell_type": "code",
   "execution_count": 12,
   "id": "b039101a-9efd-4e23-b026-68e1f75a59f8",
   "metadata": {},
   "outputs": [
    {
     "data": {
      "text/plain": [
       "array([[174.,  78.,  62., ...,  38.,  33.,   0.],\n",
       "       [ 19.,  21.,  21., ..., 165., 133.,   0.],\n",
       "       [212., 172., 148., ..., 152., 132.,   0.],\n",
       "       ...,\n",
       "       [118.,  62.,  57., ...,  47.,  48.,   2.],\n",
       "       [ 36.,  38.,  14., ...,  35.,  19.,   2.],\n",
       "       [186., 107.,  95., ...,  89.,  71.,   2.]])"
      ]
     },
     "execution_count": 12,
     "metadata": {},
     "output_type": "execute_result"
    }
   ],
   "source": [
    "data_train = np.concatenate((p0, p1, p2), axis=0)\n",
    "data_train"
   ]
  },
  {
   "cell_type": "code",
   "execution_count": 15,
   "id": "1d3fe076-7b83-41de-8663-f34d94b0cbec",
   "metadata": {},
   "outputs": [
    {
     "data": {
      "text/plain": [
       "array([[174.,  78.,  62., ..., 129.,  38.,  33.],\n",
       "       [ 19.,  21.,  21., ..., 212., 165., 133.],\n",
       "       [212., 172., 148., ..., 193., 152., 132.],\n",
       "       ...,\n",
       "       [118.,  62.,  57., ..., 109.,  47.,  48.],\n",
       "       [ 36.,  38.,  14., ...,  34.,  35.,  19.],\n",
       "       [186., 107.,  95., ..., 148.,  89.,  71.]])"
      ]
     },
     "execution_count": 15,
     "metadata": {},
     "output_type": "execute_result"
    }
   ],
   "source": [
    "X_train = data_train[:, :-1]\n",
    "X_train"
   ]
  },
  {
   "cell_type": "code",
   "execution_count": 18,
   "id": "50d5b3cd-106e-42cf-8f5b-daad42fbc7a7",
   "metadata": {},
   "outputs": [
    {
     "name": "stdout",
     "output_type": "stream",
     "text": [
      "[0. 0. 0. 0. 0. 0. 0. 0. 0. 0. 0. 0. 0. 0. 0. 0. 0. 0. 0. 0. 0. 0. 0. 0.\n",
      " 0. 0. 0. 0. 0. 0. 0. 0. 0. 0. 0. 0. 0. 0. 0. 0. 0. 0. 0. 0. 0. 0. 0. 0.\n",
      " 0. 0. 0. 0. 0. 0. 0. 0. 0. 0. 0. 0. 0. 0. 0. 0. 0. 0. 0. 0. 0. 0. 0. 0.\n",
      " 0. 0. 0. 0. 0. 0. 0. 0. 0. 0. 0. 0. 0. 0. 0. 0. 0. 0. 0. 0. 0. 0. 0. 0.\n",
      " 0. 0. 0. 0. 0. 0. 0. 0. 0. 0. 0. 0. 0. 0. 0. 0. 0. 0. 0. 0. 0. 0. 0. 0.\n",
      " 0. 0. 0. 0. 0. 0. 0. 0. 0. 1. 1. 1. 1. 1. 1. 1. 1. 1. 1. 1. 1. 1. 1. 1.\n",
      " 1. 1. 1. 1. 1. 1. 1. 1. 1. 1. 1. 1. 1. 1. 1. 1. 1. 1. 1. 1. 1. 1. 1. 1.\n",
      " 1. 1. 1. 1. 1. 1. 1. 1. 1. 1. 1. 1. 1. 1. 1. 1. 1. 1. 1. 1. 1. 1. 1. 1.\n",
      " 1. 1. 1. 1. 1. 1. 1. 1. 1. 1. 1. 1. 1. 1. 1. 1. 1. 1. 1. 1. 1. 1. 1. 1.\n",
      " 1. 1. 1. 1. 1. 1. 1. 1. 1. 1. 1. 1. 1. 1. 1. 1. 1. 1. 1. 1. 1. 1. 1. 1.\n",
      " 1. 1. 1. 1. 1. 1. 1. 1. 2. 2. 2. 2. 2. 2. 2. 2. 2. 2. 2. 2. 2. 2. 2. 2.\n",
      " 2. 2. 2. 2. 2. 2. 2. 2. 2. 2. 2. 2. 2. 2. 2. 2. 2. 2. 2. 2. 2. 2. 2. 2.\n",
      " 2. 2. 2. 2. 2. 2. 2. 2. 2. 2. 2. 2. 2. 2. 2. 2. 2. 2. 2. 2. 2. 2. 2. 2.\n",
      " 2. 2. 2. 2. 2. 2. 2.]\n"
     ]
    }
   ],
   "source": [
    "y_train = data_train[:, -1]\n",
    "print(y_train)\n"
   ]
  },
  {
   "cell_type": "markdown",
   "id": "75485688-827b-4d93-8cce-6d873a2e51a8",
   "metadata": {},
   "source": [
    "## Random Forest"
   ]
  },
  {
   "cell_type": "code",
   "execution_count": 20,
   "id": "df51c70c-02a5-4338-b2fb-592cd2d68914",
   "metadata": {},
   "outputs": [],
   "source": [
    "from sklearn.ensemble import RandomForestClassifier\n",
    "\n",
    "clf1 = RandomForestClassifier(n_estimators=3000, n_jobs=-1, random_state=42)"
   ]
  },
  {
   "cell_type": "code",
   "execution_count": 22,
   "id": "69c8bf40-e844-42f7-b578-c2c3f2653566",
   "metadata": {},
   "outputs": [],
   "source": [
    "from sklearn.model_selection import cross_val_score\n",
    "\n",
    "result1 = cross_val_score(clf1, X_train, y_train, cv=10, scoring=\"accuracy\")"
   ]
  },
  {
   "cell_type": "code",
   "execution_count": 23,
   "id": "974f0990-0b13-4741-9b5c-a6744d654bb7",
   "metadata": {},
   "outputs": [
    {
     "data": {
      "text/plain": [
       "0.6829637096774194"
      ]
     },
     "execution_count": 23,
     "metadata": {},
     "output_type": "execute_result"
    }
   ],
   "source": [
    "np.mean(result1)"
   ]
  },
  {
   "cell_type": "markdown",
   "id": "b19deed4-b647-4c84-94ce-b3b33fab027a",
   "metadata": {},
   "source": [
    "## Extree"
   ]
  },
  {
   "cell_type": "code",
   "execution_count": 24,
   "id": "6358c30c-8f4f-4049-87c5-b8e43ddae992",
   "metadata": {},
   "outputs": [],
   "source": [
    "from sklearn.ensemble import ExtraTreesClassifier\n",
    "\n",
    "clf2 = ExtraTreesClassifier(n_estimators=3000, n_jobs=-1, random_state=42)"
   ]
  },
  {
   "cell_type": "code",
   "execution_count": 25,
   "id": "4c5f01e2-1b87-4393-b96c-67645089a649",
   "metadata": {},
   "outputs": [],
   "source": [
    "from sklearn.model_selection import cross_val_score\n",
    "\n",
    "result2 = cross_val_score(clf2, X_train, y_train, cv=10, scoring=\"accuracy\")"
   ]
  },
  {
   "cell_type": "code",
   "execution_count": 26,
   "id": "22291a9f-adfd-47bd-a4c0-a484a22d8799",
   "metadata": {},
   "outputs": [
    {
     "data": {
      "text/plain": [
       "0.7080645161290323"
      ]
     },
     "execution_count": 26,
     "metadata": {},
     "output_type": "execute_result"
    }
   ],
   "source": [
    "np.mean(result2)"
   ]
  },
  {
   "cell_type": "markdown",
   "id": "a5f580db-f8d9-4dab-8e52-5bd9776fa2b5",
   "metadata": {
    "tags": []
   },
   "source": [
    "## SGD"
   ]
  },
  {
   "cell_type": "code",
   "execution_count": 29,
   "id": "b6f763e9-2836-412b-adda-db4412276dba",
   "metadata": {},
   "outputs": [],
   "source": [
    "from sklearn.linear_model import SGDClassifier\n",
    "\n",
    "clf3 = SGDClassifier(max_iter=5, tol=-np.infty, random_state=42)"
   ]
  },
  {
   "cell_type": "code",
   "execution_count": 30,
   "id": "55d3754b-f7c2-4816-bc0a-d041feaeee6f",
   "metadata": {},
   "outputs": [],
   "source": [
    "from sklearn.model_selection import cross_val_score\n",
    "\n",
    "result3 = cross_val_score(clf3, X_train, y_train, cv=10, scoring=\"accuracy\")"
   ]
  },
  {
   "cell_type": "code",
   "execution_count": 31,
   "id": "291edfc7-6bf0-4be2-869b-34dfb3866692",
   "metadata": {},
   "outputs": [
    {
     "data": {
      "text/plain": [
       "0.5201612903225806"
      ]
     },
     "execution_count": 31,
     "metadata": {},
     "output_type": "execute_result"
    }
   ],
   "source": [
    "np.mean(result3)"
   ]
  },
  {
   "cell_type": "code",
   "execution_count": null,
   "id": "0bc1eae4-14d1-4ec1-8d82-ea679a642623",
   "metadata": {},
   "outputs": [],
   "source": []
  },
  {
   "cell_type": "code",
   "execution_count": null,
   "id": "e574ff2b-6412-4b12-996b-5aa5ecd26013",
   "metadata": {},
   "outputs": [],
   "source": []
  },
  {
   "cell_type": "code",
   "execution_count": null,
   "id": "9a9524d3-51e5-4cba-9e9e-287a906854e7",
   "metadata": {},
   "outputs": [],
   "source": []
  },
  {
   "cell_type": "code",
   "execution_count": null,
   "id": "a98c69ef-d845-42dc-a2d9-348b80698756",
   "metadata": {},
   "outputs": [],
   "source": []
  }
 ],
 "metadata": {
  "kernelspec": {
   "display_name": "Python 3 (ipykernel)",
   "language": "python",
   "name": "python3"
  },
  "language_info": {
   "codemirror_mode": {
    "name": "ipython",
    "version": 3
   },
   "file_extension": ".py",
   "mimetype": "text/x-python",
   "name": "python",
   "nbconvert_exporter": "python",
   "pygments_lexer": "ipython3",
   "version": "3.9.7"
  }
 },
 "nbformat": 4,
 "nbformat_minor": 5
}
